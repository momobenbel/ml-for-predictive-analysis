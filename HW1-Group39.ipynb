{
 "cells": [
  {
   "cell_type": "markdown",
   "metadata": {},
   "source": [
    "# Homework 1\n",
    "Group 39 - CIAMPANA Lorenzo, FILESI Gianluca, BEN BELHASSEN Mohamed Ali, NUBE Giacomo"
   ]
  },
  {
   "cell_type": "code",
   "execution_count": 2,
   "metadata": {},
   "outputs": [],
   "source": [
    "import pandas as pd\n",
    "import numpy as np\n",
    "import scipy.stats as stats"
   ]
  },
  {
   "cell_type": "markdown",
   "metadata": {},
   "source": [
    "## Lottery"
   ]
  },
  {
   "cell_type": "code",
   "execution_count": 3,
   "metadata": {},
   "outputs": [],
   "source": [
    "df = pd.DataFrame({\"Number of tickets\": [1,1,2,3,4,125,1_900,3_750,25_500,23_500,37_500,214_000,943_714], \"Prize amount\": [25_000,5_000,1_000,100,60,50,20,15,10,5,2,1,0]})"
   ]
  },
  {
   "cell_type": "code",
   "execution_count": 4,
   "metadata": {},
   "outputs": [
    {
     "data": {
      "text/plain": [
       "array([8.000000e-07, 8.000000e-07, 1.600000e-06, 2.400000e-06,\n",
       "       3.200000e-06, 1.000000e-04, 1.520000e-03, 3.000000e-03,\n",
       "       2.040000e-02, 1.880000e-02, 3.000000e-02, 1.712000e-01,\n",
       "       7.549712e-01])"
      ]
     },
     "execution_count": 4,
     "metadata": {},
     "output_type": "execute_result"
    }
   ],
   "source": [
    "Total_tickets = df['Number of tickets'].sum()\n",
    "Numbers = np.array(df['Number of tickets'])\n",
    "Prizes = np.array(df['Prize amount'])\n",
    "Probabilities = Numbers/Total_tickets\n",
    "Probabilities"
   ]
  },
  {
   "cell_type": "markdown",
   "metadata": {},
   "source": [
    "### Question 1"
   ]
  },
  {
   "cell_type": "markdown",
   "metadata": {},
   "source": [
    "The expected value for the game (not including the ticket cost) is:"
   ]
  },
  {
   "cell_type": "code",
   "execution_count": 5,
   "metadata": {},
   "outputs": [
    {
     "name": "stdout",
     "output_type": "stream",
     "text": [
      "E = 0.635632\n"
     ]
    }
   ],
   "source": [
    "Exp_nocost = (Probabilities*Prizes).sum()\n",
    "print('E =',Exp_nocost)"
   ]
  },
  {
   "cell_type": "markdown",
   "metadata": {},
   "source": [
    "The expected value for the game, including the ticket cost, is:"
   ]
  },
  {
   "cell_type": "code",
   "execution_count": 6,
   "metadata": {},
   "outputs": [
    {
     "name": "stdout",
     "output_type": "stream",
     "text": [
      "E = -0.3643679999999999\n"
     ]
    }
   ],
   "source": [
    "Exp_cost = (Probabilities*(Prizes-1)).sum()\n",
    "print('E =',Exp_cost)"
   ]
  },
  {
   "cell_type": "markdown",
   "metadata": {},
   "source": [
    "The expected value shows clearly that by playing this lottery, we should expect to lose money."
   ]
  },
  {
   "cell_type": "markdown",
   "metadata": {},
   "source": [
    "### Question 2"
   ]
  },
  {
   "cell_type": "markdown",
   "metadata": {},
   "source": [
    "Not including the cost:"
   ]
  },
  {
   "cell_type": "code",
   "execution_count": 7,
   "metadata": {},
   "outputs": [
    {
     "name": "stdout",
     "output_type": "stream",
     "text": [
      "Var =  525.836955960576\n"
     ]
    }
   ],
   "source": [
    "Exp_squared_nocost = (Probabilities*(Prizes**2)).sum()\n",
    "Var_nocost = Exp_squared_nocost-(Exp_cost**2)\n",
    "print('Var = ',Var_nocost)"
   ]
  },
  {
   "cell_type": "markdown",
   "metadata": {},
   "source": [
    "Including the cost:"
   ]
  },
  {
   "cell_type": "code",
   "execution_count": 8,
   "metadata": {},
   "outputs": [
    {
     "name": "stdout",
     "output_type": "stream",
     "text": [
      "Var =  525.5656919605758\n"
     ]
    }
   ],
   "source": [
    "Exp_squared_cost = (Probabilities*((Prizes-1)**2)).sum()\n",
    "Var_cost = Exp_squared_cost-(Exp_cost**2)\n",
    "print('Var = ',Var_cost)"
   ]
  },
  {
   "cell_type": "markdown",
   "metadata": {},
   "source": [
    "### Question 3"
   ]
  },
  {
   "cell_type": "markdown",
   "metadata": {},
   "source": [
    "We have $N=100$ random variables $X_1,\\dots,X_{100}\\sim Be(p)$ where $p$ is the probability to have a winning ticket (i.e. Prize amount $\\ge 1$), that is equivalent to `Exp_nocost`, since we want to win more than 100€. \n",
    "\n",
    "For the Central Limit Theorem (CLT), \n",
    "$$ \\frac{\\bar{X}_{100}-\\mu}{\\sqrt{\\sigma^2/N}}\\xrightarrow{d} N(0,1) $$\n",
    "\n",
    "and since $X_i\\sim Be(p)$, $\\mu=p,\\ \\sigma^2=p(1-p)$\n",
    "\n",
    "Considering that each ticket costs 1€, we want to calculate:\n",
    "$$ P\\left(\\sum_{x=1}^{100}X_i >100\\right) $$\n",
    "\n",
    "Giving the fact that, $\\sum X_i\\sim Bi(N,p)$, it is possible to write again the CLT as it follows:\n",
    "$$ \\frac{\\sum_{x=1}^{100}X_i -Np}{\\sqrt{Np(1-p)}}\\xrightarrow{d} N(0,1) $$\n",
    "\n",
    "When $N$ is big enough:\n",
    "$$ Bi(N,p)\\approx N(Np,Np(1-p)) $$\n",
    "\n",
    "Using some alegbric equivalences:\n",
    "$$ P\\left(\\sum_{x=1}^{100}X_i >100\\right)=1-\\Phi\\left(\\frac{100-\\mu}{\\sqrt{\\sigma^2}}\\right)=1-\\Phi\\left(\\frac{100-Np}{\\sqrt{Np(1-p)}}\\right) $$\n"
   ]
  },
  {
   "cell_type": "code",
   "execution_count": 9,
   "metadata": {},
   "outputs": [
    {
     "data": {
      "text/plain": [
       "1.0"
      ]
     },
     "execution_count": 9,
     "metadata": {},
     "output_type": "execute_result"
    }
   ],
   "source": [
    "N = 100\n",
    "p = Exp_nocost\n",
    "mu = N*p\n",
    "sigma2 = N*p*(1-p)\n",
    "1-stats.norm.cdf(N,mu,np.sqrt(sigma2))"
   ]
  },
  {
   "cell_type": "markdown",
   "metadata": {},
   "source": [
    "Such a minor risult indicates that, by buying 100 tickets, it is very unlikely to win more than 101€."
   ]
  },
  {
   "cell_type": "markdown",
   "metadata": {},
   "source": [
    "### Question 4 - before it was reformulated"
   ]
  },
  {
   "cell_type": "markdown",
   "metadata": {},
   "source": [
    "To ensure a probability of gaining more than 0€ with a single ticket purchase, at least 50% of the winning tickets must have a prize greater than 2€. A possible adjustment could be:\n",
    "\n",
    "\n",
    "| Number of tickets | Prize amount |\n",
    "|-------------------|--------------|\n",
    "|         1         |     25000    |\n",
    "|         1         |     5000     |\n",
    "|         2         |     1000     |\n",
    "|         3         |      100     |\n",
    "|         4         |      60      |\n",
    "|        989        |      50      |\n",
    "|        4000       |      20      |\n",
    "|       70000       |      15      |\n",
    "|       100000      |      10      |\n",
    "|       200000      |       5      |\n",
    "|       250000      |       2      |\n",
    "|       305000      |       1      |\n",
    "|       320000      |       0      |\n",
    "\n"
   ]
  },
  {
   "cell_type": "code",
   "execution_count": 10,
   "metadata": {},
   "outputs": [],
   "source": [
    "df_adj = pd.DataFrame({\"Number of tickets\": [1,1,2,3,4,989,4_000,70_000,100_000,200_000,250_000,305_000,320_000], \"Prize amount\": [25_000,5_000,1_000,100,60,50,20,15,10,5,2,1,0]})"
   ]
  },
  {
   "cell_type": "code",
   "execution_count": 11,
   "metadata": {},
   "outputs": [
    {
     "name": "stdout",
     "output_type": "stream",
     "text": [
      "0.5\n"
     ]
    }
   ],
   "source": [
    "Total_tickets_adj = df_adj['Number of tickets'].sum()\n",
    "Numbers_adj = np.array(df_adj['Number of tickets'])\n",
    "Prizes_adj = np.array(df_adj['Prize amount'])\n",
    "Probabilities_adj = Numbers_adj/Total_tickets_adj\n",
    "p_adj = 1-Probabilities_adj[-2:].sum()\n",
    "print(str(p_adj))"
   ]
  },
  {
   "cell_type": "markdown",
   "metadata": {},
   "source": [
    "### Question 4 - after it was reformulated"
   ]
  },
  {
   "cell_type": "markdown",
   "metadata": {},
   "source": [
    "Since we have to reduce the number of no-winning tickets by $x$ and add $x$ to the tickets with a prize amount of 1€, the total number of tickets remains the same.\n",
    "\n",
    "| Number of tickets | Prize amount |\n",
    "|-------------------|--------------|\n",
    "|         1         |     25000    |\n",
    "|         1         |     5000     |\n",
    "|         2         |     1000     |\n",
    "|         3         |      100     |\n",
    "|         4         |      60      |\n",
    "|        125        |      50      |\n",
    "|        1900       |      20      |\n",
    "|        3750       |      15      |\n",
    "|        25500      |      10      |\n",
    "|        23500      |       5      |\n",
    "|        37500      |       2      |\n",
    "|      214000+x     |       1      |\n",
    "|      943714-x     |       0      |"
   ]
  },
  {
   "cell_type": "markdown",
   "metadata": {},
   "source": [
    "To have 50% of losing or winning, the number of no-winning tickets must be the half of total."
   ]
  },
  {
   "cell_type": "code",
   "execution_count": 20,
   "metadata": {},
   "outputs": [
    {
     "name": "stdout",
     "output_type": "stream",
     "text": [
      "New 1€ winning tickets must be 532714.0\n",
      "New no-winning tickets must be 625000\n"
     ]
    }
   ],
   "source": [
    "NWT = Total_tickets/2\n",
    "x = Numbers[-1]-NWT\n",
    "print('New 1€ winning tickets must be',Numbers[-2])\n",
    "print('New no-winning tickets must be', round(NWT))\n"
   ]
  },
  {
   "cell_type": "markdown",
   "metadata": {},
   "source": [
    "## Netflix"
   ]
  },
  {
   "cell_type": "code",
   "execution_count": 13,
   "metadata": {},
   "outputs": [
    {
     "data": {
      "text/html": [
       "<div>\n",
       "<style scoped>\n",
       "    .dataframe tbody tr th:only-of-type {\n",
       "        vertical-align: middle;\n",
       "    }\n",
       "\n",
       "    .dataframe tbody tr th {\n",
       "        vertical-align: top;\n",
       "    }\n",
       "\n",
       "    .dataframe thead th {\n",
       "        text-align: right;\n",
       "    }\n",
       "</style>\n",
       "<table border=\"1\" class=\"dataframe\">\n",
       "  <thead>\n",
       "    <tr style=\"text-align: right;\">\n",
       "      <th></th>\n",
       "      <th>Netflix</th>\n",
       "    </tr>\n",
       "  </thead>\n",
       "  <tbody>\n",
       "    <tr>\n",
       "      <th>count</th>\n",
       "      <td>87.000000</td>\n",
       "    </tr>\n",
       "    <tr>\n",
       "      <th>mean</th>\n",
       "      <td>0.862069</td>\n",
       "    </tr>\n",
       "    <tr>\n",
       "      <th>std</th>\n",
       "      <td>0.346827</td>\n",
       "    </tr>\n",
       "    <tr>\n",
       "      <th>min</th>\n",
       "      <td>0.000000</td>\n",
       "    </tr>\n",
       "    <tr>\n",
       "      <th>25%</th>\n",
       "      <td>1.000000</td>\n",
       "    </tr>\n",
       "    <tr>\n",
       "      <th>50%</th>\n",
       "      <td>1.000000</td>\n",
       "    </tr>\n",
       "    <tr>\n",
       "      <th>75%</th>\n",
       "      <td>1.000000</td>\n",
       "    </tr>\n",
       "    <tr>\n",
       "      <th>max</th>\n",
       "      <td>1.000000</td>\n",
       "    </tr>\n",
       "  </tbody>\n",
       "</table>\n",
       "</div>"
      ],
      "text/plain": [
       "         Netflix\n",
       "count  87.000000\n",
       "mean    0.862069\n",
       "std     0.346827\n",
       "min     0.000000\n",
       "25%     1.000000\n",
       "50%     1.000000\n",
       "75%     1.000000\n",
       "max     1.000000"
      ]
     },
     "execution_count": 13,
     "metadata": {},
     "output_type": "execute_result"
    }
   ],
   "source": [
    "DF = pd.read_excel('Survey_netflix.xlsx')\n",
    "DF.describe()"
   ]
  },
  {
   "cell_type": "markdown",
   "metadata": {},
   "source": [
    "### Question 1"
   ]
  },
  {
   "cell_type": "code",
   "execution_count": 14,
   "metadata": {},
   "outputs": [
    {
     "name": "stdout",
     "output_type": "stream",
     "text": [
      "For the Netflix dataset, the average = 0.86 and the empirical variance is = 0.12\n"
     ]
    }
   ],
   "source": [
    "average = DF['Netflix'].mean()\n",
    "variance = DF['Netflix'].var(ddof=1)\n",
    "print ('For the Netflix dataset, the average =', round(average,2), 'and the empirical variance is =', round(variance,2))"
   ]
  },
  {
   "cell_type": "markdown",
   "metadata": {},
   "source": [
    "### Question 2"
   ]
  },
  {
   "cell_type": "markdown",
   "metadata": {},
   "source": [
    "The hypotheses test the proportion of students who prefer Netflix over Disney+ based on the data from a survey. Specifically, the parameter p represents the true population preference for Netflix, and the hypotheses are:\n",
    "- H0:p=0.8: The null hypothesis states that 80% of the population prefers Netflix over Disney+. In other words, p=0.8 means that the proportion of students who prefer Netflix is equal to 80%.\n",
    "- HA:p>0.8: The alternative hypothesis is testing whether the true proportion of students who prefer Netflix is greater than 80%. This means the hypothesis proposes that more than 80% of the population prefers Netflix over Disney+.\n",
    "To determine if we should reject the hypothesis that p = 0.8, we need to determine: How likely is it to get an estimation grated than 80%? "
   ]
  },
  {
   "cell_type": "markdown",
   "metadata": {},
   "source": [
    "### Question 3"
   ]
  },
  {
   "cell_type": "code",
   "execution_count": 15,
   "metadata": {},
   "outputs": [
    {
     "name": "stdout",
     "output_type": "stream",
     "text": [
      "The p-value amounts to 0.09\n"
     ]
    }
   ],
   "source": [
    "p_null = 0.8\n",
    "n = len(DF)\n",
    "n_successes = np.sum(DF['Netflix'])\n",
    "p_val = 1 - stats.binom.cdf(n_successes - 1,n=n,p=p_null) \n",
    "\n",
    "print('The p-value amounts to', str(round(p_val,2)))"
   ]
  },
  {
   "cell_type": "markdown",
   "metadata": {},
   "source": [
    "### Question 4"
   ]
  },
  {
   "cell_type": "code",
   "execution_count": 16,
   "metadata": {},
   "outputs": [
    {
     "name": "stdout",
     "output_type": "stream",
     "text": [
      "The p-value using the Central Limit Theorem is: 0.07\n"
     ]
    }
   ],
   "source": [
    "p_hat = n_successes / n\n",
    "\n",
    "se_p = np.sqrt(p_null * (1 - p_null) / n)\n",
    "z_score = (p_hat - p_null) / se_p\n",
    "p_value = 1 - stats.norm.cdf(z_score)\n",
    "\n",
    "print('The p-value using the Central Limit Theorem is:', round(p_value,2))"
   ]
  },
  {
   "cell_type": "markdown",
   "metadata": {},
   "source": [
    "### Question 5\n",
    "\n",
    "In both cases, $p$-value is larger than $5\\%$. With this significance level we don't refuse the null hypotesis."
   ]
  },
  {
   "cell_type": "markdown",
   "metadata": {},
   "source": [
    "### Question 6"
   ]
  },
  {
   "cell_type": "markdown",
   "metadata": {},
   "source": [
    "By using the CLT and performing a confidence interval for a normal distribution, we know that:\n",
    "$$ p \\in \\left(\\hat{p}-z_{\\alpha/2}\\cdot\\sqrt{\\frac{\\hat{p}(1-\\hat{p})}{n}},\\hat{p}+z_{\\alpha/2}\\cdot\\sqrt{\\frac{\\hat{p}(1-\\hat{p})}{n}}\\right) $$\n",
    "\n",
    "Our aim is to have a $5\\% $ difference between the upper and lower bound, so:\n",
    "$$ 2z_{a/2}\\cdot\\sqrt{\\frac{\\hat{p}(1-\\hat{p})}{n}}=0.05\\quad \\iff \\quad n= \\frac{\\hat{p}(1-{\\hat{p}})}{(0.05/2z_{\\alpha/2})^2}$$"
   ]
  },
  {
   "cell_type": "code",
   "execution_count": 24,
   "metadata": {},
   "outputs": [
    {
     "name": "stdout",
     "output_type": "stream",
     "text": [
      "To ensure a 5% margin of error at a 95% confidence level, we should survey 0 people.\n"
     ]
    }
   ],
   "source": [
    "alpha = 0.05\n",
    "z = stats.norm.ppf(alpha/2)\n",
    "n_surveyed = (p_hat*(1-p_hat))/((0.05/(2*z))**2)\n",
    "print('To ensure a 5% margin of error at a 95% confidence level, we should survey', round(n_surveyed),'people.')"
   ]
  }
 ],
 "metadata": {
  "kernelspec": {
   "display_name": "Python 3 (ipykernel)",
   "language": "python",
   "name": "python3"
  },
  "language_info": {
   "codemirror_mode": {
    "name": "ipython",
    "version": 3
   },
   "file_extension": ".py",
   "mimetype": "text/x-python",
   "name": "python",
   "nbconvert_exporter": "python",
   "pygments_lexer": "ipython3",
   "version": "3.12.4"
  }
 },
 "nbformat": 4,
 "nbformat_minor": 4
}
